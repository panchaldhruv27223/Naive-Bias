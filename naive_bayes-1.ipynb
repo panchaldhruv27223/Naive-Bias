{
 "cells": [
  {
   "cell_type": "markdown",
   "id": "44d68c17-8b0f-4fba-adbc-ea44836ae4c7",
   "metadata": {},
   "source": [
    "### Q1. What is Bayes' theorem?"
   ]
  },
  {
   "cell_type": "markdown",
   "id": "28430cc6-ef19-4724-890c-8de01250cfda",
   "metadata": {},
   "source": [
    "Bayes’ Theorem is used to determine the conditional probability of an event. \n",
    "\n",
    "Bayes, theorem as the name suggest is a mathematical theorem which is used to find the conditionality probability of an event. Conditional probability is the probability of the event which will occur in future. It is calculated based on the previous outcomes of the events.\n",
    "\n",
    "Bayes' theorem is a fundamental principle in probability theory and statistics that describes how to update the probability of a hypothesis based on new evidence. \r\n"
   ]
  },
  {
   "cell_type": "markdown",
   "id": "97cd8f87-7f7e-43f2-9a40-8c6114999712",
   "metadata": {},
   "source": [
    "### Q2. What is the formula for Bayes' theorem?"
   ]
  },
  {
   "attachments": {
    "6793dc01-dde6-47dc-9e39-453cfcb46328.png": {
     "image/png": "[encoded data removed]"
    }
   },
   "cell_type": "markdown",
   "id": "c73cfbaa-9ef8-4022-bbdb-3b562cf51239",
   "metadata": {},
   "source": [
    "![download.png](attachment:6793dc01-dde6-47dc-9e39-453cfcb46328.png)"
   ]
  },
  {
   "attachments": {},
   "cell_type": "markdown",
   "id": "46fef615-f9b1-4bdc-820e-460bf6718c88",
   "metadata": {},
   "source": [
    "Where P(A) and P(B) are the probabilities of events A and B.\r\n",
    "P(A|B) is the probability of event A given B\r\n",
    "P(B|A) is the probability of event B given \n",
    "\n",
    "Bayes theorem is used to find the reverse probabilities if we know the conditional probability of an event.\r\n",
    "A."
   ]
  },
  {
   "cell_type": "markdown",
   "id": "6f1169bf-ef60-444d-8689-b43f8cf4b2f6",
   "metadata": {},
   "source": [
    "### Q3. How is Bayes' theorem used in practice?"
   ]
  },
  {
   "cell_type": "markdown",
   "id": "8bd402ab-d3c9-42a8-a871-95e2ff4c4e4d",
   "metadata": {},
   "source": [
    "Medical Diagnosis:\n",
    "Scenario: Determining the probability of a patient having a disease given a positive test result.\n",
    "\n",
    "Spam Filtering:\n",
    "Scenario: Determining the probability that an email is spam based on the presence of certain words.\n",
    "\n",
    "classifing the text document\n",
    "Scenario: Classifying text documents into categories (e.g., spam or not spam, sentiment analysis)."
   ]
  },
  {
   "cell_type": "markdown",
   "id": "b107063e-5303-4700-a2cf-9a3b47b65daa",
   "metadata": {},
   "source": [
    "### Q4. What is the relationship between Bayes' theorem and conditional probability?"
   ]
  },
  {
   "cell_type": "markdown",
   "id": "ffdd04b9-72fb-4c4c-93f4-704981a6905e",
   "metadata": {},
   "source": [
    "Bayes' theorem and conditional probability are closely related concepts in probability theory. Bayes' theorem is essentially a formula that describes how to update the probability of a hypothesis given new evidence, and it is derived directly from the definition of conditional probability.\n",
    "\n",
    "Conditional Probability\n",
    "Conditional probability is the probability of an event occurring given that another event has already occurred. It is denoted as \n",
    "𝑃(A∣B)\n",
    "P(A∣B), which reads \"the probability of A given 𝐵\". The formula for conditional probability is: P(A∣B) = P(A intersection B)/P(B)\n",
    "\n",
    "Conditional Probability: Represents the probability of an event occurring given that another event has occurred.\n",
    "Bayes' Theorem: Provides a way to update the probability of a hypothesis given new evidence, using conditional probabilities."
   ]
  },
  {
   "cell_type": "markdown",
   "id": "7180589f-8cca-42f3-8ea4-f86d6b679dc4",
   "metadata": {},
   "source": [
    "### Q5. How do you choose which type of Naive Bayes classifier to use for any given problem?"
   ]
  },
  {
   "cell_type": "markdown",
   "id": "d44796d6-3171-4164-8f71-c41f16ed2490",
   "metadata": {},
   "source": [
    "Choosing the appropriate type of Naive Bayes classifier for a given problem depends on the nature of the data you are working with. There are three main types of Naive Bayes classifiers, each suited to different types of data: Gaussian Naive Bayes, Multinomial Naive Bayes, and Bernoulli Naive Bayes. \n",
    "\n",
    "### Gaussian Naïve Bayes\r\n",
    "\n",
    "In gaussian naïve bayes the continuous values associated with each feature is assumed to follow gaussian distribution. A random variable is said to follow a gaussian/normal distribution when plotted gives a bell shaped curve which is symmetric about the mean.\n",
    "\n",
    "### Multinomial Naïve Bayes\r\n",
    "\n",
    "Multinomial naïve bayes is mostly used in document classification problem like email spam classification, sentiment analysis etc. Multinomial naïve bayes is a variant mainly used for handling discrete data i.e., mainly like text classification problem where the features are word counts or term frequencies\n",
    "### Bernoulli Naïve Bayes\r\n",
    "Bernoulli naïve bayes works very similar to multinomial naïve bayes except the difference that the predictor variables are independent Boolean variable like if a particular word is present in a document or not represented by either 1 or 0. This model is often used for document classification task.\n",
    "\n",
    "#### we can also decide based on the nature of data and Domain Knowledge ####\n",
    "\n",
    "##### \n",
    "\n",
    "Nature of the Data:\n",
    "    \n",
    "    Continuous Data: If your features are continuous and normally distributed, use Gaussian Naive Baye  \n",
    "    Count Data: If your features are counts or frequencies, such as word counts in text classification, use Multinomial Naive Baye  \n",
    "    Binary Data: If your features are binary, indicating presence or absence, use Bernoulli Naive Bayes\n",
    "##### \n",
    "\n",
    "Domain Knowledg\n",
    "       Understanding the domain and the nature of the data can guide the choice. For example, in text classification, knowing whether to use word count\n",
    "    s or binary indicators can determine the choice between Multinomial and Bernoulli Nae B Bas  ."
   ]
  },
  {
   "cell_type": "markdown",
   "id": "199e514b-9810-4746-b753-cd40ca4a5c18",
   "metadata": {},
   "source": [
    "### Q6. Assignment:\n",
    "##### You have a dataset with two features, X1 and X2, and two possible classes, A and B. You want to use Naive Bayes to classify a new instance with features X1 = 3 and X2 = 4. The following table shows the frequency of each feature value for each class:\n",
    "    \n",
    "    Class\t X1=1 X1=2 \tX1=3 \tX2=1 \tX2=2 \tX2=3\t X2=4\n",
    "    \n",
    "     A\t 3\t 3\t 4\t 4\t 3\t 3\t 3\n",
    "    \n",
    "     B\t 2\t 2\t 1\t 2\t 2\t 2\t 3\n",
    "\n",
    "##### Assuming equal prior probabilities for each class, which class would Naive Bayes predict the new instance to belong to?"
   ]
  },
  {
   "cell_type": "code",
   "execution_count": 1,
   "id": "455c2e3d-f384-41de-ac7c-32267f7183d9",
   "metadata": {},
   "outputs": [],
   "source": [
    "import numpy as np\n",
    "import pandas as pd\n",
    "import matplotlib.pyplot as plt\n",
    "import seaborn as sns "
   ]
  },
  {
   "cell_type": "code",
   "execution_count": 14,
   "id": "870476af-1ed7-4dab-90e2-742c973e58b5",
   "metadata": {
    "scrolled": true
   },
   "outputs": [
    {
     "data": {
      "text/html": [
       "<div>\n",
       "<style scoped>\n",
       "    .dataframe tbody tr th:only-of-type {\n",
       "        vertical-align: middle;\n",
       "    }\n",
       "\n",
       "    .dataframe tbody tr th {\n",
       "        vertical-align: top;\n",
       "    }\n",
       "\n",
       "    .dataframe thead th {\n",
       "        text-align: right;\n",
       "    }\n",
       "</style>\n",
       "<table border=\"1\" class=\"dataframe\">\n",
       "  <thead>\n",
       "    <tr style=\"text-align: right;\">\n",
       "      <th></th>\n",
       "      <th>A</th>\n",
       "      <th>B</th>\n",
       "      <th>Class</th>\n",
       "    </tr>\n",
       "  </thead>\n",
       "  <tbody>\n",
       "    <tr>\n",
       "      <th>0</th>\n",
       "      <td>3</td>\n",
       "      <td>2</td>\n",
       "      <td>0</td>\n",
       "    </tr>\n",
       "    <tr>\n",
       "      <th>1</th>\n",
       "      <td>3</td>\n",
       "      <td>2</td>\n",
       "      <td>0</td>\n",
       "    </tr>\n",
       "    <tr>\n",
       "      <th>2</th>\n",
       "      <td>4</td>\n",
       "      <td>1</td>\n",
       "      <td>0</td>\n",
       "    </tr>\n",
       "    <tr>\n",
       "      <th>3</th>\n",
       "      <td>4</td>\n",
       "      <td>2</td>\n",
       "      <td>1</td>\n",
       "    </tr>\n",
       "    <tr>\n",
       "      <th>4</th>\n",
       "      <td>3</td>\n",
       "      <td>2</td>\n",
       "      <td>1</td>\n",
       "    </tr>\n",
       "    <tr>\n",
       "      <th>5</th>\n",
       "      <td>3</td>\n",
       "      <td>2</td>\n",
       "      <td>1</td>\n",
       "    </tr>\n",
       "    <tr>\n",
       "      <th>6</th>\n",
       "      <td>3</td>\n",
       "      <td>3</td>\n",
       "      <td>1</td>\n",
       "    </tr>\n",
       "  </tbody>\n",
       "</table>\n",
       "</div>"
      ],
      "text/plain": [
       "   A  B  Class\n",
       "0  3  2      0\n",
       "1  3  2      0\n",
       "2  4  1      0\n",
       "3  4  2      1\n",
       "4  3  2      1\n",
       "5  3  2      1\n",
       "6  3  3      1"
      ]
     },
     "execution_count": 14,
     "metadata": {},
     "output_type": "execute_result"
    }
   ],
   "source": [
    "## here x1 = 0 and x2 = 1 class\n",
    "\n",
    "data_dict = {\n",
    "    \"A\" : [3,3,4,4,3,3,3],\n",
    "    \"B\" : [2,2,1,2,2,2,3],\n",
    "    \"Class\" : [0,0,0,1,1,1,1]\n",
    "}\n",
    "data = pd.DataFrame(data_dict)\n",
    "data"
   ]
  },
  {
   "cell_type": "code",
   "execution_count": 3,
   "id": "2b4c5a19-8ced-456a-9260-aebfc88268d7",
   "metadata": {},
   "outputs": [],
   "source": [
    "## new_data_point = 3,2 "
   ]
  },
  {
   "cell_type": "code",
   "execution_count": 6,
   "id": "ace2bcd1-d512-4390-a964-33c784c1eb33",
   "metadata": {},
   "outputs": [
    {
     "data": {
      "text/plain": [
       "array([3, 2])"
      ]
     },
     "execution_count": 6,
     "metadata": {},
     "output_type": "execute_result"
    }
   ],
   "source": [
    "test = np.array([3,2])\n",
    "test"
   ]
  },
  {
   "cell_type": "code",
   "execution_count": 94,
   "id": "85115c22-a7b6-4212-96ca-88a5e8bda7b3",
   "metadata": {},
   "outputs": [],
   "source": [
    "def prior_probability(y):\n",
    "    class_,count = np.unique(y,return_counts=True)\n",
    "    prior_prob = []\n",
    "    for i in class_:\n",
    "        prob = count[i]/len(y)\n",
    "        prior_prob.append(prob)\n",
    "        \n",
    "    # print(\"prior probability is :\",prior_prob)\n",
    "    \n",
    "    return class_, prior_prob\n",
    "\n",
    "def conditional_probability(test_data, data):\n",
    "    # print(\"the length of test data is :\",len(test_data))\n",
    "    postitor_probability = []\n",
    "    \n",
    "    for i in range(len(test_data)):\n",
    "        # print(\"iteration number is :\",i)\n",
    "        val =  test_data[i] \n",
    "        tem_data = data[data[:,i] == val]\n",
    "        # print(tem_data)\n",
    "        total = sum(data[:,i] == val)\n",
    "        \n",
    "        class_, count = np.unique(tem_data[:,-1],return_counts=True)\n",
    "        # print(class_,count)\n",
    "        \n",
    "        for i in range(len(class_)):\n",
    "            postitor_probability.append(count[i]/total)\n",
    "            \n",
    "    return postitor_probability\n",
    "\n",
    "def naive_bayes(data,test_data):\n",
    "    x = data[:,:-1]\n",
    "    y = data[:,-1]\n",
    "    # print(x,y)\n",
    "    classes, prior_probability_class = prior_probability(y)\n",
    "    # print(\"classes are :\",classes)\n",
    "    # print(\"prior probabilities : \",prior_probability_class)\n",
    "    \n",
    "    predicted_probability = []\n",
    "    \n",
    "    # p_prob = prior_probability_class[i]\n",
    "    post_probability = conditional_probability(test_data,data)\n",
    "    # print(post_probability)\n",
    "\n",
    "    for i in range(len(classes)):\n",
    "        # print(post_probability[i])\n",
    "        # print(post_probability[i+len(classes)])\n",
    "        prob = post_probability[i]* post_probability[i]*post_probability[i+len(classes)]\n",
    "        predicted_probability.append(prob)\n",
    "    \n",
    "    # print(predicted_probability)\n",
    "\n",
    "    max = np.argmax(predicted_probability)\n",
    "    # print(max)\n",
    "    predicted_class = classes[max]\n",
    "    return predicted_class"
   ]
  },
  {
   "cell_type": "code",
   "execution_count": 95,
   "id": "2939546d-1823-4d35-9a31-29e9032343c4",
   "metadata": {},
   "outputs": [
    {
     "data": {
      "text/plain": [
       "1"
      ]
     },
     "execution_count": 95,
     "metadata": {},
     "output_type": "execute_result"
    }
   ],
   "source": [
    "naive_bayes(data.values,test)"
   ]
  },
  {
   "cell_type": "code",
   "execution_count": null,
   "id": "cf37f221-8685-4e04-84c7-37fe29a76102",
   "metadata": {},
   "outputs": [],
   "source": []
  },
  {
   "cell_type": "code",
   "execution_count": null,
   "id": "9ac74f40-1190-4b64-a01f-531e2cbe266c",
   "metadata": {},
   "outputs": [],
   "source": []
  }
 ],
 "metadata": {
  "kernelspec": {
   "display_name": "Python 3 (ipykernel)",
   "language": "python",
   "name": "python3"
  },
  "language_info": {
   "codemirror_mode": {
    "name": "ipython",
    "version": 3
   },
   "file_extension": ".py",
   "mimetype": "text/x-python",
   "name": "python",
   "nbconvert_exporter": "python",
   "pygments_lexer": "ipython3",
   "version": "3.9.13"
  },
  "widgets": {
   "application/vnd.jupyter.widget-state+json": {
    "state": {},
    "version_major": 2,
    "version_minor": 0
   }
  }
 },
 "nbformat": 4,
 "nbformat_minor": 5
}
